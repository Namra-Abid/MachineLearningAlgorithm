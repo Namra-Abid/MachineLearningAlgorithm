{
 "cells": [
  {
   "cell_type": "code",
   "execution_count": 2,
   "id": "7a0ecfa0-11cc-4299-8a27-8b1cdf34d447",
   "metadata": {},
   "outputs": [],
   "source": [
    "import numpy as np\n",
    "import pandas as pd\n",
    "import matplotlib.pyplot as plt\n",
    "import seaborn as sns\n",
    "import warnings\n",
    "warnings.filterwarnings(\"ignore\")"
   ]
  },
  {
   "cell_type": "code",
   "execution_count": 61,
   "id": "3e0e6c2a-2704-49ac-b9c6-6b2945fef564",
   "metadata": {},
   "outputs": [],
   "source": [
    "#Helper Functions\n",
    "class Functions:\n",
    "    \n",
    "    ## function for random sampling of data\n",
    "    def random_sampler(self, perc=0.1):\n",
    "        prop = int(len(self.X)*perc) #proportion of the data to be used for each iteration, here we have set it to 10% of the data\n",
    "        ind = np.random.choice(range(len(self.X)), prop, replace=False)\n",
    "        test_ind = list(set(range(len(self.X))) - set(ind)) #for using the rest sample as test set\n",
    "        return self.X[ind],self.y[ind], self.X[test_ind], self.y[test_ind]\n",
    "    \n",
    "    ## funtion for normalizing the features\n",
    "    def normalize_features(self,X,append=True):\n",
    "        X = (X - np.mean(X, 0)) / np.std(X, 0) #normalize the features\n",
    "        if append:\n",
    "            X = np.append(np.ones(X.shape[0]).reshape(-1,1),X,1) #append column of ones for intercept\n",
    "        return X"
   ]
  },
  {
   "cell_type": "code",
   "execution_count": 69,
   "id": "514dfd21-17ce-4e44-a3a5-a7a8427fc840",
   "metadata": {},
   "outputs": [],
   "source": [
    "import numpy as np\n",
    "\n",
    "class Linear_Regression():\n",
    "    def __init__(self, X, y, iterations=100, alpha=0.01):\n",
    "        self.X = X\n",
    "        self.y = y.reshape(-1, 1)\n",
    "        self.iterations = iterations\n",
    "        self.alpha = alpha\n",
    "        self.theta = np.zeros((self.X.shape[1], 1))\n",
    "\n",
    "    def fit(self):\n",
    "        for _ in range(self.iterations):\n",
    "            gradient = -(2/len(self.X)) * np.dot(self.X.T, (self.y - np.dot(self.X, self.theta)))\n",
    "            self.theta = self.theta - self.alpha * gradient\n",
    "        return self.theta\n",
    "\n",
    "    def predict(self, X):\n",
    "        y_hat = np.dot(X, self.theta)\n",
    "        return y_hat\n",
    "\n",
    "    # def loss(self):\n",
    "    #     pred = np.dot(self.X, self.theta)\n",
    "    #     return (np.square(self.y - pred)).mean()\n",
    "    def loss(self,y,yhat):\n",
    "       # y_pred_test = self.predict(X_test)\n",
    "        loss_value = np.mean((y - yhat) ** 2)  # Mean Squared Error\n",
    "        squared_diff = (y - yhat) ** 2\n",
    "       # print(squared_diff)\n",
    "        return loss_value\n"
   ]
  },
  {
   "cell_type": "code",
   "execution_count": 70,
   "id": "f8699bf9-f172-48b7-a92f-907275a54e1d",
   "metadata": {},
   "outputs": [
    {
     "data": {
      "text/html": [
       "<div>\n",
       "<style scoped>\n",
       "    .dataframe tbody tr th:only-of-type {\n",
       "        vertical-align: middle;\n",
       "    }\n",
       "\n",
       "    .dataframe tbody tr th {\n",
       "        vertical-align: top;\n",
       "    }\n",
       "\n",
       "    .dataframe thead th {\n",
       "        text-align: right;\n",
       "    }\n",
       "</style>\n",
       "<table border=\"1\" class=\"dataframe\">\n",
       "  <thead>\n",
       "    <tr style=\"text-align: right;\">\n",
       "      <th></th>\n",
       "      <th>X1</th>\n",
       "      <th>X2</th>\n",
       "      <th>X3</th>\n",
       "      <th>X4</th>\n",
       "      <th>X5</th>\n",
       "      <th>X6</th>\n",
       "      <th>X7</th>\n",
       "      <th>X8</th>\n",
       "      <th>X9</th>\n",
       "      <th>X10</th>\n",
       "      <th>X11</th>\n",
       "      <th>Y</th>\n",
       "    </tr>\n",
       "  </thead>\n",
       "  <tbody>\n",
       "    <tr>\n",
       "      <th>0</th>\n",
       "      <td>7.4</td>\n",
       "      <td>0.70</td>\n",
       "      <td>0.00</td>\n",
       "      <td>1.9</td>\n",
       "      <td>0.076</td>\n",
       "      <td>11.0</td>\n",
       "      <td>34.0</td>\n",
       "      <td>0.9978</td>\n",
       "      <td>3.51</td>\n",
       "      <td>0.56</td>\n",
       "      <td>9.4</td>\n",
       "      <td>5</td>\n",
       "    </tr>\n",
       "    <tr>\n",
       "      <th>1</th>\n",
       "      <td>7.8</td>\n",
       "      <td>0.88</td>\n",
       "      <td>0.00</td>\n",
       "      <td>2.6</td>\n",
       "      <td>0.098</td>\n",
       "      <td>25.0</td>\n",
       "      <td>67.0</td>\n",
       "      <td>0.9968</td>\n",
       "      <td>3.20</td>\n",
       "      <td>0.68</td>\n",
       "      <td>9.8</td>\n",
       "      <td>5</td>\n",
       "    </tr>\n",
       "    <tr>\n",
       "      <th>2</th>\n",
       "      <td>7.8</td>\n",
       "      <td>0.76</td>\n",
       "      <td>0.04</td>\n",
       "      <td>2.3</td>\n",
       "      <td>0.092</td>\n",
       "      <td>15.0</td>\n",
       "      <td>54.0</td>\n",
       "      <td>0.9970</td>\n",
       "      <td>3.26</td>\n",
       "      <td>0.65</td>\n",
       "      <td>9.8</td>\n",
       "      <td>5</td>\n",
       "    </tr>\n",
       "  </tbody>\n",
       "</table>\n",
       "</div>"
      ],
      "text/plain": [
       "    X1    X2    X3   X4     X5    X6    X7      X8    X9   X10  X11  Y\n",
       "0  7.4  0.70  0.00  1.9  0.076  11.0  34.0  0.9978  3.51  0.56  9.4  5\n",
       "1  7.8  0.88  0.00  2.6  0.098  25.0  67.0  0.9968  3.20  0.68  9.8  5\n",
       "2  7.8  0.76  0.04  2.3  0.092  15.0  54.0  0.9970  3.26  0.65  9.8  5"
      ]
     },
     "execution_count": 70,
     "metadata": {},
     "output_type": "execute_result"
    }
   ],
   "source": [
    "#Reading the data and splitting it into training and testing set\n",
    "reg_data = pd.read_csv('regression.csv')\n",
    "reg_data.head(3)"
   ]
  },
  {
   "cell_type": "code",
   "execution_count": 34,
   "id": "c29f4b07-8b9f-493e-94b7-ffcd26badf9b",
   "metadata": {},
   "outputs": [
    {
     "name": "stdout",
     "output_type": "stream",
     "text": [
      "<class 'pandas.core.frame.DataFrame'>\n",
      "RangeIndex: 1599 entries, 0 to 1598\n",
      "Data columns (total 12 columns):\n",
      " #   Column  Non-Null Count  Dtype  \n",
      "---  ------  --------------  -----  \n",
      " 0   X1      1599 non-null   float64\n",
      " 1   X2      1599 non-null   float64\n",
      " 2   X3      1599 non-null   float64\n",
      " 3   X4      1599 non-null   float64\n",
      " 4   X5      1599 non-null   float64\n",
      " 5   X6      1599 non-null   float64\n",
      " 6   X7      1599 non-null   float64\n",
      " 7   X8      1599 non-null   float64\n",
      " 8   X9      1599 non-null   float64\n",
      " 9   X10     1599 non-null   float64\n",
      " 10  X11     1599 non-null   float64\n",
      " 11  Y       1599 non-null   int64  \n",
      "dtypes: float64(11), int64(1)\n",
      "memory usage: 150.0 KB\n"
     ]
    }
   ],
   "source": [
    "reg_data.info()"
   ]
  },
  {
   "cell_type": "code",
   "execution_count": 17,
   "id": "d7fb0fa1-c1d3-421b-8ef2-616ddc40e1d0",
   "metadata": {},
   "outputs": [],
   "source": [
    "X,y = reg_data.iloc[:,:-1],reg_data.iloc[:,-1]\n",
    "#let's split the data into a training and testing set\n",
    "from sklearn.model_selection import train_test_split\n",
    "X_train, X_test, y_train, y_test = train_test_split(X, y, test_size=0.2, random_state=42)"
   ]
  },
  {
   "cell_type": "code",
   "execution_count": 71,
   "id": "7cea6a6e-b232-4858-839f-d01816af7a72",
   "metadata": {},
   "outputs": [
    {
     "data": {
      "text/plain": [
       "<Figure size 1200x800 with 0 Axes>"
      ]
     },
     "metadata": {},
     "output_type": "display_data"
    }
   ],
   "source": [
    "#to check correlation of the features with target in training data\n",
    "train_df = pd.concat([X_train,y_train],axis=1)\n",
    "plt.figure(figsize=(12, 8))\n",
    "corr = train_df.corr()\n",
    "#to remove least 3 correlated features\n",
    "least_corr = corr.iloc[:,-1].abs().nsmallest(3).index\n",
    "X_train = X_train.drop(least_corr, axis=1)\n",
    "X_test = X_test.drop(least_corr, axis=1)\n",
    "\n",
    "\n",
    "#normalizing data \n",
    "X_train_normalized = Functions().normalize_features(X_train.values)\n",
    "X_test_normalized = Functions().normalize_features(X_test.values)"
   ]
  },
  {
   "cell_type": "code",
   "execution_count": 72,
   "id": "78f96b61-e461-403b-a1e6-5604ad5731d8",
   "metadata": {},
   "outputs": [],
   "source": [
    "#Fit the model\n",
    "lin_reg_model=Linear_Regression(X_train_normalized,y_train.values)\n",
    "lin_reg_model_params = lin_reg_model.fit()\n",
    "linreg_y_hat=lin_reg_model.predict(X_test_normalized)"
   ]
  },
  {
   "cell_type": "code",
   "execution_count": 63,
   "id": "ab3c97fc-3e16-4999-8557-82b667236627",
   "metadata": {},
   "outputs": [
    {
     "data": {
      "text/plain": [
       "(numpy.ndarray, '', pandas.core.series.Series)"
      ]
     },
     "execution_count": 63,
     "metadata": {},
     "output_type": "execute_result"
    }
   ],
   "source": [
    "type(linreg_y_hat) ,\"\" ,type(y_test)"
   ]
  },
  {
   "cell_type": "code",
   "execution_count": 64,
   "id": "f3169a49-78ff-46a7-8305-ac61ed765fea",
   "metadata": {},
   "outputs": [],
   "source": [
    "a=((linreg_y_hat.flatten() ))"
   ]
  },
  {
   "cell_type": "code",
   "execution_count": 65,
   "id": "ece05c3b-a49c-4ae2-96f5-46462cc05528",
   "metadata": {},
   "outputs": [],
   "source": [
    "b=((y_test.values))"
   ]
  },
  {
   "cell_type": "code",
   "execution_count": 74,
   "id": "ffb18854-909f-479b-9f72-3735c7e10934",
   "metadata": {},
   "outputs": [
    {
     "data": {
      "text/plain": [
       "1.052920456396039"
      ]
     },
     "execution_count": 74,
     "metadata": {},
     "output_type": "execute_result"
    }
   ],
   "source": [
    "lin_reg_model.loss(a, b)\n"
   ]
  },
  {
   "cell_type": "code",
   "execution_count": 67,
   "id": "a9cec7e9-f438-4044-b84b-803ee8e1de1a",
   "metadata": {},
   "outputs": [],
   "source": [
    "#a"
   ]
  },
  {
   "cell_type": "code",
   "execution_count": 68,
   "id": "bf6d648e-5d55-4d7f-9583-0b661a9a1204",
   "metadata": {},
   "outputs": [],
   "source": [
    "#b"
   ]
  },
  {
   "cell_type": "code",
   "execution_count": 80,
   "id": "051c64ea-739e-42e9-ae8f-47970ae122d8",
   "metadata": {},
   "outputs": [
    {
     "name": "stdout",
     "output_type": "stream",
     "text": [
      "Mean Squared Error: 1.046048563430105\n"
     ]
    },
    {
     "data": {
      "text/plain": [
       "<Figure size 1200x800 with 0 Axes>"
      ]
     },
     "metadata": {},
     "output_type": "display_data"
    }
   ],
   "source": [
    "import numpy as np\n",
    "import pandas as pd\n",
    "import matplotlib.pyplot as plt\n",
    "import seaborn as sns\n",
    "from sklearn.model_selection import train_test_split\n",
    "import warnings\n",
    "\n",
    "warnings.filterwarnings(\"ignore\")\n",
    "\n",
    "class Optimization:\n",
    "    def __init__(self, X, y, iterations=100, alpha=0.01):\n",
    "        self.X = X\n",
    "        self.y = y.reshape(-1, 1)\n",
    "        self.iterations = iterations\n",
    "        self.alpha = alpha\n",
    "        self.theta = np.zeros((self.X.shape[1], 1))\n",
    "\n",
    "    def gradient_descent(self):\n",
    "        for _ in range(self.iterations):\n",
    "            gradient = -(2/len(self.X)) * np.dot(self.X.T, (self.y - np.dot(self.X, self.theta)))\n",
    "            self.theta = self.theta - self.alpha * gradient\n",
    "        return self.theta\n",
    "\n",
    "\n",
    "class Loss:\n",
    "    @staticmethod\n",
    "    def mean_squared_error(y_true, y_pred):\n",
    "        return np.mean((y_true - y_pred) ** 2)\n",
    "\n",
    "\n",
    "class LinearRegression:\n",
    "    def __init__(self):\n",
    "        self.optimization = None\n",
    "\n",
    "    def fit(self, X_train, y_train, iterations=100, alpha=0.01):\n",
    "        y_train = np.array(y_train)  # Convert y_train to a NumPy array\n",
    "        self.optimization = Optimization(X_train, y_train, iterations, alpha)\n",
    "        self.optimization.gradient_descent()\n",
    "\n",
    "    def predict(self, X):\n",
    "        if self.optimization is None:\n",
    "            raise ValueError(\"Model not fitted yet. Call fit method before predict.\")\n",
    "        return np.dot(X, self.optimization.theta)\n",
    "\n",
    "    def evaluate(self, y_true, y_pred):\n",
    "        return Loss.mean_squared_error(y_true, y_pred)\n",
    "\n",
    "\n",
    "# Reading the data\n",
    "reg_data = pd.read_csv('regression.csv')\n",
    "X, y = reg_data.iloc[:, :-1], reg_data.iloc[:, -1]\n",
    "\n",
    "# Splitting the data into training and testing sets\n",
    "X_train, X_test, y_train, y_test = train_test_split(X, y, test_size=0.2, random_state=42)\n",
    "\n",
    "# Checking correlation of the features with target in training data\n",
    "train_df = pd.concat([X_train, y_train], axis=1)\n",
    "plt.figure(figsize=(12, 8))\n",
    "corr = train_df.corr()\n",
    "\n",
    "# Removing least 3 correlated features\n",
    "least_corr = corr.iloc[:, -1].abs().nsmallest(3).index\n",
    "X_train = X_train.drop(least_corr, axis=1)\n",
    "X_test = X_test.drop(least_corr, axis=1)\n",
    "#normalizing data \n",
    "X_train_normalized = Functions().normalize_features(X_train.values)\n",
    "X_test_normalized = Functions().normalize_features(X_test.values)\n",
    "# Fitting the model\n",
    "lin_reg_model = LinearRegression()\n",
    "lin_reg_model.fit(X_train_normalized, y_train)\n",
    "linreg_y_hat = lin_reg_model.predict(X_test_normalized)\n",
    "loss_value = lin_reg_model.evaluate(y_test.values, linreg_y_hat.flatten())\n",
    "print(\"Mean Squared Error:\", loss_value)\n"
   ]
  }
 ],
 "metadata": {
  "kernelspec": {
   "display_name": "Python 3 (ipykernel)",
   "language": "python",
   "name": "python3"
  },
  "language_info": {
   "codemirror_mode": {
    "name": "ipython",
    "version": 3
   },
   "file_extension": ".py",
   "mimetype": "text/x-python",
   "name": "python",
   "nbconvert_exporter": "python",
   "pygments_lexer": "ipython3",
   "version": "3.11.1"
  }
 },
 "nbformat": 4,
 "nbformat_minor": 5
}
