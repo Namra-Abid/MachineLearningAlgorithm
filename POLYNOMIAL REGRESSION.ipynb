{
 "cells": [
  {
   "cell_type": "code",
   "execution_count": null,
   "id": "78e586ad-b98e-4bb7-84b2-738182fe8d16",
   "metadata": {},
   "outputs": [],
   "source": [
    "import numpy as np\n",
    "\n",
    "class Polynomial_Regression():\n",
    "    def __init__(self, X, y, degree=1, iterations=100, alpha=0.01):\n",
    "        self.degree = degree\n",
    "        self.X = self.add_polynomial_features(X, degree)\n",
    "        self.y = y.reshape(-1, 1)\n",
    "        self.iterations = iterations\n",
    "        self.alpha = alpha\n",
    "        self.theta = np.zeros((self.X.shape[1], 1))\n",
    "\n",
    "    def add_polynomial_features(self, X, degree):\n",
    "        X_poly = np.ones((X.shape[0], 1))\n",
    "        for i in range(1, degree + 1):\n",
    "            X_poly = np.concatenate((X_poly, X ** i), axis=1)\n",
    "        return X_poly\n",
    "\n",
    "    def fit(self):\n",
    "        for _ in range(self.iterations):\n",
    "            gradient = -(2/len(self.X)) * np.dot(self.X.T, (self.y - np.dot(self.X, self.theta)))\n",
    "            self.theta = self.theta - self.alpha * gradient\n",
    "        return self.theta\n",
    "\n",
    "    def predict(self, X):\n",
    "        X_poly = self.add_polynomial_features(X, self.degree)\n",
    "        y_hat = np.dot(X_poly, self.theta)\n",
    "        return y_hat\n",
    "\n",
    "    def loss(self, y, yhat):\n",
    "        loss_value = np.mean((y - yhat) ** 2)\n",
    "        return loss_value\n"
   ]
  }
 ],
 "metadata": {
  "kernelspec": {
   "display_name": "Python 3 (ipykernel)",
   "language": "python",
   "name": "python3"
  },
  "language_info": {
   "codemirror_mode": {
    "name": "ipython",
    "version": 3
   },
   "file_extension": ".py",
   "mimetype": "text/x-python",
   "name": "python",
   "nbconvert_exporter": "python",
   "pygments_lexer": "ipython3",
   "version": "3.11.1"
  }
 },
 "nbformat": 4,
 "nbformat_minor": 5
}
