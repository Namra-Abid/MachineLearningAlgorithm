{
 "cells": [
  {
   "cell_type": "code",
   "execution_count": 10,
   "id": "52b3f314-8c2c-40cd-8d2f-2136ed832fa2",
   "metadata": {},
   "outputs": [],
   "source": [
    "#Importing Libraries\n",
    "import numpy as np\n",
    "import pandas as pd\n",
    "import matplotlib.pyplot as plt\n",
    "from sklearn.metrics import accuracy_score\n",
    "from sklearn.model_selection import train_test_split\n",
    "from mpl_toolkits import mplot3d\n",
    "from matplotlib import cm\n",
    "import itertools"
   ]
  },
  {
   "cell_type": "code",
   "execution_count": 8,
   "id": "255f9fdd-4c9f-45f4-821d-587a10f23f21",
   "metadata": {},
   "outputs": [],
   "source": [
    "#Helper Functions\n",
    "class Functions:\n",
    "    \n",
    "    ## function for random sampling of data\n",
    "    def random_sampler(self, perc=0.1):\n",
    "        prop = int(len(self.X)*perc) #proportion of the data to be used for each iteration, here we have set it to 10% of the data\n",
    "        ind = np.random.choice(range(len(self.X)), prop, replace=False)\n",
    "        test_ind = list(set(range(len(self.X))) - set(ind)) #for using the rest sample as test set\n",
    "        return self.X[ind],self.y[ind], self.X[test_ind], self.y[test_ind]\n",
    "    \n",
    "    ## funtion for normalizing the features\n",
    "    def normalize_features(self,X,append=True):\n",
    "        X = (X - np.mean(X, 0)) / np.std(X, 0) #normalize the features\n",
    "        if append:\n",
    "            X = np.append(np.ones(X.shape[0]).reshape(-1,1),X,1) #append column of ones for intercept\n",
    "        return X"
   ]
  },
  {
   "cell_type": "code",
   "execution_count": 6,
   "id": "399e4bec-39aa-4ac6-84c5-21cd4f2e6e37",
   "metadata": {},
   "outputs": [],
   "source": [
    "import numpy as np\n",
    "\n",
    "class Ridge_Linear_Regression0():\n",
    "    def __init__(self, X, y, iterations=100, alpha=0.01, lambda_ridge=0.1):\n",
    "        self.X = X\n",
    "        self.y = y.reshape(-1, 1)\n",
    "        self.iterations = iterations\n",
    "        self.alpha = alpha\n",
    "        self.lambda_ridge = lambda_ridge\n",
    "        self.theta = np.zeros((self.X.shape[1], 1))\n",
    "\n",
    "    def fit(self):\n",
    "        for _ in range(self.iterations):\n",
    "            gradient = -(2/len(self.X)) * np.dot(self.X.T, (self.y - np.dot(self.X, self.theta)))\n",
    "            ridge_penalty = 2 * self.lambda_ridge * self.theta\n",
    "            self.theta = self.theta - self.alpha * (gradient + ridge_penalty)\n",
    "        return self.theta\n",
    "\n",
    "    def predict(self, X):\n",
    "        y_hat = np.dot(X, self.theta)\n",
    "        return y_hat\n",
    "\n",
    "    def mse_loss(self, y, yhat):\n",
    "        loss_value = np.mean((y - yhat) ** 2)  # Mean Squared Error\n",
    "        return loss_value\n",
    "\n",
    "    def ridge_mse_loss(self, y, yhat):\n",
    "        loss_value = np.mean((y - yhat) ** 2) + self.lambda_ridge * np.sum(self.theta**2)\n",
    "        return loss_value\n"
   ]
  },
  {
   "cell_type": "code",
   "execution_count": 7,
   "id": "9a6c6e6a-91fe-492c-ba8b-de8f2cd4f59a",
   "metadata": {},
   "outputs": [],
   "source": [
    "import numpy as np\n",
    "import matplotlib.pyplot as plt\n",
    "\n",
    "class Ridge_Linear_Regression1():\n",
    "    def __init__(self, X, y, iterations=100, alpha=0.01, lambda_ridge=0.1):\n",
    "        self.X = X\n",
    "        self.y = y.reshape(-1, 1)\n",
    "        self.iterations = iterations\n",
    "        self.alpha = alpha\n",
    "        self.lambda_ridge = lambda_ridge\n",
    "        self.theta = np.zeros((self.X.shape[1], 1))\n",
    "        self.loss_history = []\n",
    "\n",
    "    def fit(self):\n",
    "        for _ in range(self.iterations):\n",
    "            gradient = self.compute_gradient()\n",
    "            self.update_parameters(gradient)\n",
    "            loss = self.compute_loss()\n",
    "            self.loss_history.append(loss)\n",
    "        return self.theta\n",
    "\n",
    "    def predict(self, X):\n",
    "        y_hat = np.dot(X, self.theta)\n",
    "        return y_hat\n",
    "\n",
    "    def mse_loss(self, y, yhat):\n",
    "        loss_value = np.mean((y - yhat) ** 2)  # Mean Squared Error\n",
    "        return loss_value\n",
    "\n",
    "    def ridge_mse_loss(self, y, yhat):\n",
    "        loss_value = np.mean((y - yhat) ** 2) + self.lambda_ridge * np.sum(self.theta**2)\n",
    "        return loss_value\n",
    "\n",
    "    def compute_gradient(self):\n",
    "        gradient = -(2/len(self.X)) * np.dot(self.X.T, (self.y - np.dot(self.X, self.theta)))\n",
    "        ridge_penalty = 2 * self.lambda_ridge * self.theta\n",
    "        gradient += ridge_penalty\n",
    "        return gradient\n",
    "\n",
    "    def update_parameters(self, gradient):\n",
    "        self.theta -= self.alpha * gradient\n",
    "\n",
    "    def compute_loss(self):\n",
    "        yhat = np.dot(self.X, self.theta)\n",
    "        loss = self.ridge_mse_loss(self.y, yhat)\n",
    "        return loss\n",
    "\n",
    "    def plot_loss_history(self):\n",
    "        plt.plot(self.loss_history)\n",
    "        plt.xlabel('Iterations')\n",
    "        plt.ylabel('Loss')\n",
    "        plt.title('Loss over iterations')\n",
    "        plt.show()\n"
   ]
  },
  {
   "cell_type": "code",
   "execution_count": 11,
   "id": "57f88646-eae3-4914-8ba1-dd0f679abb75",
   "metadata": {},
   "outputs": [],
   "source": [
    "reg_data = pd.read_csv('regression.csv')\n",
    "X,y = reg_data.iloc[:,:-1].values,reg_data.iloc[:,-1].values\n",
    "\n",
    "## let's split the data into a training and testing set\n",
    "X_train, X_test, y_train, y_test = train_test_split(X, y, test_size=0.2, random_state=42)\n",
    "\n",
    "#normalize the features\n",
    "X_train_normalized = Functions().normalize_features(X_train)\n",
    "X_test_normalized = Functions().normalize_features(X_test)"
   ]
  },
  {
   "cell_type": "code",
   "execution_count": 12,
   "id": "37f312ab-4111-43fc-bedf-a773710b1557",
   "metadata": {},
   "outputs": [
    {
     "name": "stdout",
     "output_type": "stream",
     "text": [
      "<class 'pandas.core.frame.DataFrame'>\n",
      "RangeIndex: 1599 entries, 0 to 1598\n",
      "Data columns (total 12 columns):\n",
      " #   Column  Non-Null Count  Dtype  \n",
      "---  ------  --------------  -----  \n",
      " 0   X1      1599 non-null   float64\n",
      " 1   X2      1599 non-null   float64\n",
      " 2   X3      1599 non-null   float64\n",
      " 3   X4      1599 non-null   float64\n",
      " 4   X5      1599 non-null   float64\n",
      " 5   X6      1599 non-null   float64\n",
      " 6   X7      1599 non-null   float64\n",
      " 7   X8      1599 non-null   float64\n",
      " 8   X9      1599 non-null   float64\n",
      " 9   X10     1599 non-null   float64\n",
      " 10  X11     1599 non-null   float64\n",
      " 11  Y       1599 non-null   int64  \n",
      "dtypes: float64(11), int64(1)\n",
      "memory usage: 150.0 KB\n"
     ]
    }
   ],
   "source": [
    "reg_data.info()"
   ]
  },
  {
   "cell_type": "code",
   "execution_count": 14,
   "id": "03ef9f13-c6f8-4efc-8549-ce33568d5ea6",
   "metadata": {},
   "outputs": [
    {
     "data": {
      "image/png": "[encoded data removed]",
      "text/plain": [
       "<Figure size 640x480 with 1 Axes>"
      ]
     },
     "metadata": {},
     "output_type": "display_data"
    },
    {
     "name": "stdout",
     "output_type": "stream",
     "text": [
      "Mean Squared Error: 2.0970726386283745\n"
     ]
    }
   ],
   "source": [
    "model = Ridge_Linear_Regression1(X_train_normalized, y_train)\n",
    "\n",
    "# Fit the model\n",
    "learned_beta = model.fit()\n",
    "\n",
    "# Plot loss history\n",
    "model.plot_loss_history()\n",
    "\n",
    "# Make predictions\n",
    "y_pred = model.predict(X_test_normalized)\n",
    "\n",
    "# Evaluate model performance\n",
    "mse = model.mse_loss(y_test, y_pred)\n",
    "print(\"Mean Squared Error:\", mse)"
   ]
  },
  {
   "cell_type": "code",
   "execution_count": 26,
   "id": "62b5dceb-1ba7-49b9-991d-1f06bf9ea5a8",
   "metadata": {},
   "outputs": [
    {
     "name": "stdout",
     "output_type": "stream",
     "text": [
      "Mean Squared Error: 1.5228508247339816\n"
     ]
    }
   ],
   "source": [
    "import numpy as np\n",
    "\n",
    "class LinearRegression2():\n",
    "    def __init__(self, X, y, penalty=0):\n",
    "        self.X = X\n",
    "        self.y = y.reshape(-1,1)\n",
    "        self.penalty = penalty\n",
    "        \n",
    "    def fit(self, max_iter=1000, tolerance=1e-6, lr=0.001):\n",
    "        B = np.zeros((self.X.shape[1], 1))\n",
    "        loss_list = []\n",
    "        test_loss_list = []\n",
    "        \n",
    "        for it in range(max_iter):\n",
    "            x, y, x_val, y_val = self.random_sampler()\n",
    "            y = y.reshape(-1,1)\n",
    "            y_val = y_val.reshape(-1,1)\n",
    "            \n",
    "            curr_loss, derv_loss, _ = self.mean_square_loss(x, y, B)\n",
    "            loss_list.append(curr_loss)\n",
    "            \n",
    "            curr_loss_test, _, _ = self.mean_square_loss(x_val, y_val, B)\n",
    "            test_loss_list.append(curr_loss_test)\n",
    "            \n",
    "            e = lr * derv_loss\n",
    "            B = B - e\n",
    "            \n",
    "            if np.all(np.abs(e) < tolerance):\n",
    "                break\n",
    "        \n",
    "        self.B = B  # Store learned parameters\n",
    "        return B, loss_list, test_loss_list\n",
    "    \n",
    "    def predict(self, X):\n",
    "        return np.matmul(X, self.B)  # Use learned parameters for prediction\n",
    "    \n",
    "    def mse(self, X, y, betas):\n",
    "        pred = np.dot(X, betas)\n",
    "        return np.mean((y - pred) ** 2)\n",
    "    \n",
    "    def l1_with_mse(self, X, y, betas):\n",
    "        l1_loss = self.penalty * np.sum(np.abs(betas))\n",
    "        return self.mse(X, y, betas) + l1_loss\n",
    "    \n",
    "    def l2_with_mse(self, X, y, betas):\n",
    "        l2_loss = 0.5 * self.penalty * np.sum(np.square(betas))\n",
    "        return self.mse(X, y, betas) + l2_loss\n",
    "    \n",
    "    def elastic_net(self, X, y, betas):\n",
    "        p = 1. / (1 + np.exp(-np.dot(X, betas)))\n",
    "        loss = (-1 / len(X) * (np.dot(y.T, np.log(p)) + np.dot(np.transpose(1 - y), np.log(1 - p))) + self.penalty * np.sum(np.abs(betas)) + self.penalty * betas.T.dot(betas))[0][0]\n",
    "        return loss\n",
    "    \n",
    "    def mean_square_loss(self, X, y, betas):\n",
    "        pred = np.dot(X, betas)\n",
    "        mse_loss = np.mean((y - pred) ** 2)\n",
    "        gradient = (-2.0 / len(X)) * X.T.dot(y - X.dot(betas))\n",
    "        hessian = 1 / len(X) * np.matmul(X.T, X)\n",
    "        return mse_loss, gradient, hessian\n",
    "    \n",
    "    def random_sampler(self):\n",
    "        # Implement your random sampling logic here\n",
    "        indices = np.random.choice(len(self.X), size=len(self.X), replace=False)\n",
    "        half = len(indices) // 2\n",
    "        train_idx, val_idx = indices[:half], indices[half:]\n",
    "        x_train, y_train = self.X[train_idx], self.y[train_idx]\n",
    "        x_val, y_val = self.X[val_idx], self.y[val_idx]\n",
    "        return x_train, y_train, x_val, y_val\n",
    "\n",
    "\n",
    "model_l2 = LinearRegression2(X_train_normalized, y_train)\n",
    "\n",
    "# Fit the model\n",
    "learned_beta, loss, test_loss = model_l2.fit()\n",
    "\n",
    "# Make predictions\n",
    "y_pred = model_l2.predict(X_test_normalized)\n",
    "\n",
    "# Evaluate model performance\n",
    "mse = model_l2.mse(X_test_normalized, y_test, learned_beta)\n",
    "print(\"Mean Squared Error:\", mse)\n"
   ]
  },
  {
   "cell_type": "code",
   "execution_count": 28,
   "id": "7b65f90f-5b88-4457-ba3a-e78538fd42fb",
   "metadata": {},
   "outputs": [
    {
     "name": "stdout",
     "output_type": "stream",
     "text": [
      "Mean Squared Error: 1.5242282546326065\n"
     ]
    }
   ],
   "source": [
    "model_l2=LinearRegression2(X_train_normalized, y_train)\n",
    "\n",
    "# Fit the model\n",
    "learned_beta, loss, test_loss = model_l2.fit()\n",
    "\n",
    "\n",
    "# Make predictions\n",
    "y_pred = model_l2.predict(X_test_normalized)\n",
    "\n",
    "# Evaluate model performance\n",
    "mse = model_l2.mse(X_test_normalized, y_test, learned_beta)\n",
    "print(\"Mean Squared Error:\", mse)"
   ]
  },
  {
   "cell_type": "code",
   "execution_count": 29,
   "id": "f9ed3091-d011-4961-b897-e983c878fc2a",
   "metadata": {},
   "outputs": [
    {
     "data": {
      "image/png": "[encoded data removed]",
      "text/plain": [
       "<Figure size 640x480 with 1 Axes>"
      ]
     },
     "metadata": {},
     "output_type": "display_data"
    }
   ],
   "source": [
    "# Plot loss history\n",
    "plt.plot(loss, label='Training Loss')\n",
    "plt.plot(test_loss, label='Validation Loss')\n",
    "plt.xlabel('Iterations')\n",
    "plt.ylabel('Loss')\n",
    "plt.title('Loss History')\n",
    "plt.legend()\n",
    "plt.show()"
   ]
  },
  {
   "cell_type": "code",
   "execution_count": null,
   "id": "df932afc-e6dc-4cc7-9340-360cf9f4c23b",
   "metadata": {},
   "outputs": [],
   "source": []
  },
  {
   "cell_type": "code",
   "execution_count": null,
   "id": "94185688-873f-4ddf-bee3-1b8c27521855",
   "metadata": {},
   "outputs": [],
   "source": []
  },
  {
   "cell_type": "code",
   "execution_count": null,
   "id": "04ccba3e-a829-4f99-88d0-5d9df7d8c1d4",
   "metadata": {},
   "outputs": [],
   "source": []
  },
  {
   "cell_type": "code",
   "execution_count": null,
   "id": "a0f42f66-33ee-46b9-833e-33f763298c47",
   "metadata": {},
   "outputs": [],
   "source": []
  },
  {
   "cell_type": "code",
   "execution_count": null,
   "id": "711d25f6-4b50-4c5a-86a3-d6c480083308",
   "metadata": {},
   "outputs": [],
   "source": []
  },
  {
   "cell_type": "markdown",
   "id": "e576bdd6-3973-4f0b-8018-a3740b8f0289",
   "metadata": {},
   "source": [
    "### closed form solution"
   ]
  },
  {
   "cell_type": "code",
   "execution_count": 30,
   "id": "de198474-7e4c-468b-bf3f-926cc31690a9",
   "metadata": {},
   "outputs": [],
   "source": [
    "import numpy as np\n",
    "\n",
    "class RidgeRegScratch():\n",
    "  # include solver parameter for flexible implementation of gradient descent\n",
    "  # solution in future, alpha is used in place of lambda to mimic scikit-learn\n",
    "  def __init__(self, alpha=1.0, solver='closed'):\n",
    "      self.alpha = alpha\n",
    "      self.solver = solver\n",
    "\n",
    "  def fit(self, X, y):\n",
    "      X_with_intercept = np.c_[np.ones((X.shape[0], 1)), X]\n",
    "      self.X_intercept = X_with_intercept\n",
    "      if self.solver == 'closed':\n",
    "          # number of columns in matrix of X including intercept\n",
    "          dimension = X_with_intercept.shape[1]\n",
    "          # Identity matrix of dimension compatible with our X_intercept Matrix\n",
    "          A = np.identity(dimension)\n",
    "          # set first 1 on the diagonal to zero so as not to include a bias term for\n",
    "          # the intercept\n",
    "          A[0, 0] = 0\n",
    "          # We create a bias term corresponding to alpha for each column of X not\n",
    "          # including the intercept\n",
    "          A_biased = self.alpha * A\n",
    "          thetas = np.linalg.inv(X_with_intercept.T.dot(\n",
    "              X_with_intercept) + A_biased).dot(X_with_intercept.T).dot(y)\n",
    "      self.thetas = thetas\n",
    "      return self\n",
    "\n",
    "  def predict(self, X):\n",
    "      thetas = self.thetas\n",
    "      X_predictor = np.c_[np.ones((X.shape[0], 1)), X]\n",
    "      self.predictions = X_predictor.dot(thetas)\n",
    "      return self.predictions"
   ]
  },
  {
   "cell_type": "code",
   "execution_count": null,
   "id": "4aaf12b5-7d32-4ee1-b527-cc888e12effa",
   "metadata": {},
   "outputs": [],
   "source": []
  }
 ],
 "metadata": {
  "kernelspec": {
   "display_name": "Python 3 (ipykernel)",
   "language": "python",
   "name": "python3"
  },
  "language_info": {
   "codemirror_mode": {
    "name": "ipython",
    "version": 3
   },
   "file_extension": ".py",
   "mimetype": "text/x-python",
   "name": "python",
   "nbconvert_exporter": "python",
   "pygments_lexer": "ipython3",
   "version": "3.11.1"
  }
 },
 "nbformat": 4,
 "nbformat_minor": 5
}
