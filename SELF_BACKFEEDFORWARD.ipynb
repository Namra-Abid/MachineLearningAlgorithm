{
 "cells": [
  {
   "cell_type": "code",
   "execution_count": 1,
   "id": "ac43bf9b-f8ad-4202-95b8-c643b386c8bb",
   "metadata": {},
   "outputs": [],
   "source": [
    "import numpy as np\n",
    "\n",
    "with open('variable_selection.npy', 'rb') as f:\n",
    "    X = np.load(f)\n",
    "    y = np.load(f)"
   ]
  },
  {
   "cell_type": "code",
   "execution_count": 2,
   "id": "a2c1d6a5-f871-4786-9db1-e0b64cfc19cc",
   "metadata": {},
   "outputs": [],
   "source": [
    "## Imports\n",
    "import numpy as np\n",
    "import pandas as pd\n",
    "import random\n",
    "import matplotlib.pyplot as plt\n",
    "\n",
    "from sklearn.linear_model import Lars\n",
    "from sklearn.model_selection import train_test_split\n",
    "from sklearn.linear_model import Ridge,ElasticNet,Lasso\n",
    "from sklearn.metrics import mean_squared_error"
   ]
  },
  {
   "cell_type": "code",
   "execution_count": 25,
   "id": "f9f037ad-9165-4054-9ff4-f337dd1cce3f",
   "metadata": {},
   "outputs": [],
   "source": [
    "### Write your code here\n",
    "class FeatureSelector:\n",
    "    def __init__(self, Xtrain, Xvalid, Ytrain, Yvalid):\n",
    "        self.Xtrain = Xtrain\n",
    "        self.Xvalid = Xvalid\n",
    "        self.Ytrain = Ytrain\n",
    "        self.Yvalid = Yvalid\n",
    "        self.m = Xtrain.shape[1]\n",
    "\n",
    "    def score(self, V):\n",
    "        Xt = np.concatenate([np.ones([self.Xtrain.shape[0], 1]), self.Xtrain[:, V]], axis=1)\n",
    "        Xv = np.concatenate([np.ones([self.Xvalid.shape[0], 1]), self.Xvalid[:, V]], axis=1)\n",
    "        \n",
    "        # Initialize Least Angle Regression Model\n",
    "        least_angle_regression = Lars()\n",
    "        least_angle_regression.fit(Xt, self.Ytrain)\n",
    "        \n",
    "        pred_train = least_angle_regression.predict(Xt)\n",
    "        pred_valid = least_angle_regression.predict(Xv)\n",
    "        train_mse = ((pred_train - self.Ytrain) ** 2).mean()\n",
    "        val_mse = ((pred_valid - self.Yvalid) ** 2).mean()\n",
    "        return train_mse, val_mse\n",
    "\n",
    "    def forward_search(self):\n",
    "        improvement = True\n",
    "        self.V_used = []\n",
    "        self.V_left = list(np.arange(self.m))\n",
    "\n",
    "        while improvement:\n",
    "            # Calculate the current training and validation loss\n",
    "            train_loss, val_loss = self.score(self.V_used)\n",
    "            print()\n",
    "            \n",
    "          #  print(\"Training Loss: {}\".format(train_loss))\n",
    "           # print(\"Validation Loss: {}\".format(val_loss))\n",
    "            gain_best = 0\n",
    "\n",
    "            # Iterate over the remaining features to find the one with the best gain\n",
    "            for v in self.V_left:\n",
    "                \n",
    "                V_tmp = self.V_used.copy()\n",
    "                V_tmp.append(v)\n",
    "                print(\"self.Vused\",self.V_used,\"self.Vtemp\",V_tmp)\n",
    "                print(\".score(.V_used)[1]\",self.score(self.V_used)[1],\"score(V_tmp)[1]\",self.score(V_tmp)[1])\n",
    "                gain = self.score(self.V_used)[1] - self.score(V_tmp)[1]\n",
    "\n",
    "                if gain > gain_best:\n",
    "                    gain_best = gain\n",
    "                    v_best = v\n",
    "\n",
    "            # Update selected features if there is a positive gain\n",
    "            if gain_best > 0:\n",
    "                self.V_used.append(v_best)\n",
    "                self.V_left.remove(v_best)\n",
    "            else:\n",
    "                improvement = False\n",
    "\n",
    "        # Return the selected features and final losses\n",
    "        selected_features = self.V_used\n",
    "        final_train_loss, final_val_loss = self.score(selected_features)\n",
    "        return selected_features, final_train_loss, final_val_loss\n",
    "    def backward_search(self):\n",
    "        improvement = True\n",
    "        self.V_used=list(np.arange(X_train.shape[1]))\n",
    "        self.V_left=[]\n",
    "        \n",
    "        while improvement and len(self.V_used)>0:\n",
    "            gain_best=0\n",
    "            for v in self.V_used:\n",
    "                V_tmp=self.V_used.copy()\n",
    "                V_tmp.remove(v)\n",
    "                gain=self.score(self.V_used)[1]-self.score(V_tmp)[1]\n",
    "                if gain > gain_best:\n",
    "                    gain_best=gain\n",
    "                    v_best=v\n",
    "            if gain_best>0:\n",
    "                self.V_used.remove(v_best)\n",
    "            else:\n",
    "                improvement = False\n",
    "        # Return the selected features and final losses\n",
    "        selected_features = self.V_used\n",
    "        final_train_loss, final_val_loss = self.score(selected_features)\n",
    "        \n",
    "        return selected_features, final_train_loss, final_val_loss\n",
    "            \n",
    "            "
   ]
  },
  {
   "cell_type": "code",
   "execution_count": 26,
   "id": "7a34a651-371f-4d75-b4c9-a30b71049f90",
   "metadata": {},
   "outputs": [],
   "source": [
    "## Splitting the dataset\n",
    "X_train, X_temp, y_train, y_temp = train_test_split(X, y, test_size=0.3, random_state=42)\n",
    "X_valid, X_test, y_valid, y_test = train_test_split(X_temp, y_temp, test_size=0.33, random_state=42)"
   ]
  },
  {
   "cell_type": "code",
   "execution_count": 27,
   "id": "db0c062f-0608-42e1-9ff1-86d283eb4855",
   "metadata": {},
   "outputs": [],
   "source": [
    "## Testing Forward Search\n",
    "feature_selector = FeatureSelector(X_train, X_valid, y_train, y_valid)"
   ]
  },
  {
   "cell_type": "code",
   "execution_count": 28,
   "id": "65dfbd52-2219-4cbf-a6f1-6739049a2b93",
   "metadata": {},
   "outputs": [],
   "source": [
    "## Testing Backward Search\n",
    "backward_selected_features, final_train_loss, final_val_loss = feature_selector.backward_search()"
   ]
  },
  {
   "cell_type": "code",
   "execution_count": null,
   "id": "08123580-93a3-4c9b-acec-afacb14cb208",
   "metadata": {},
   "outputs": [],
   "source": []
  },
  {
   "cell_type": "code",
   "execution_count": null,
   "id": "a699b089-e208-4628-9cc2-6bbd004627a9",
   "metadata": {},
   "outputs": [],
   "source": []
  },
  {
   "cell_type": "code",
   "execution_count": null,
   "id": "3ccb3c32-101c-4400-be42-0d0abf96a98e",
   "metadata": {},
   "outputs": [],
   "source": []
  },
  {
   "cell_type": "code",
   "execution_count": null,
   "id": "7a5e8021-9fd1-4941-9273-bfe247048138",
   "metadata": {},
   "outputs": [],
   "source": []
  }
 ],
 "metadata": {
  "kernelspec": {
   "display_name": "Python 3 (ipykernel)",
   "language": "python",
   "name": "python3"
  },
  "language_info": {
   "codemirror_mode": {
    "name": "ipython",
    "version": 3
   },
   "file_extension": ".py",
   "mimetype": "text/x-python",
   "name": "python",
   "nbconvert_exporter": "python",
   "pygments_lexer": "ipython3",
   "version": "3.11.1"
  }
 },
 "nbformat": 4,
 "nbformat_minor": 5
}
